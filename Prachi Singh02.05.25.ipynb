{
 "cells": [
  {
   "cell_type": "code",
   "execution_count": 1,
   "id": "02dac0cd",
   "metadata": {},
   "outputs": [
    {
     "name": "stdout",
     "output_type": "stream",
     "text": [
      "x: 5\n",
      "y: 3\n"
     ]
    }
   ],
   "source": [
    "\"\"\"1.Declare two variables, `x` and `y`, and assign them integer values. Swap the values of these\n",
    "variables without using any temporary variable.\"\"\"\n",
    "\n",
    "x,y=3,5\n",
    "x=x+y     # x=3+5, x=8\n",
    "y=x-y     # y=8-5 ,y=3\n",
    "x=x-y      # x=8-3 ,x=5\n",
    "print(\"x:\",x)\n",
    "print(\"y:\",y)"
   ]
  },
  {
   "cell_type": "code",
   "execution_count": 2,
   "id": "63ac7f78",
   "metadata": {},
   "outputs": [
    {
     "name": "stdout",
     "output_type": "stream",
     "text": [
      "Enter the length of rectangle: 12\n",
      "Enter the breadth of rectangle: 13\n",
      "area of the rectangle is: 156\n"
     ]
    }
   ],
   "source": [
    "\n",
    "\"\"\"2. Create a program that calculates the area of a rectangle. Take the length and breadth as inputs\n",
    "from the user and store them in variables. Calculate and display the area.\"\"\"\n",
    "\n",
    "l=int(input(\"Enter the length of rectangle: \"))\n",
    "b=int(input(\"Enter the breadth of rectangle: \"))\n",
    "area=l*b\n",
    "print(\"area of the rectangle is:\",area)\n"
   ]
  },
  {
   "cell_type": "code",
   "execution_count": 3,
   "id": "f3d3a29a",
   "metadata": {},
   "outputs": [
    {
     "name": "stdout",
     "output_type": "stream",
     "text": [
      "Enter the temperature in celsius:32\n",
      "temperature in Fahrenheit: 89.6\n"
     ]
    }
   ],
   "source": [
    "\"\"\"3. Write a Python program that converts temperatures from Celsius to Fahrenheit. Take the temperature\n",
    "in Celsius as input, store it in a variable, convert it to Fahrenheit \"\"\"\n",
    "\n",
    "Celsius=float(input(\"Enter the temperature in celsius:\"))\n",
    "\n",
    "Fahrenheit=(Celsius*9/5) + 32\n",
    "print(\"temperature in Fahrenheit:\", Fahrenheit)"
   ]
  },
  {
   "cell_type": "code",
   "execution_count": 10,
   "id": "43d07f17",
   "metadata": {},
   "outputs": [
    {
     "name": "stdout",
     "output_type": "stream",
     "text": [
      "Enter the string that you want in uppercase: hello world\n",
      "HELLO WORLD\n"
     ]
    }
   ],
   "source": [
    "# Custom function to convert a string to uppercase\n",
    "def uppercase(string):\n",
    "    result = \"\"  # Initialize an empty string \n",
    "    for ch in string:  \n",
    "        if 'a' <= ch <= 'z':  # Check if the character is a lowercase letter\n",
    "            result += chr(ord(ch) - 32)  # Convert to uppercase using ASCII value\n",
    "        else:\n",
    "            result += ch  # If not lowercase, keep the character as it is\n",
    "    return result  # Return uppercase string\n",
    "\n",
    "# Take input from the user\n",
    "string = input(\"Enter the string that you want in uppercase: \")\n",
    "\n",
    "# Call the function \n",
    "print(uppercase(string))  \n"
   ]
  },
  {
   "cell_type": "code",
   "execution_count": 11,
   "id": "61d4010e",
   "metadata": {},
   "outputs": [
    {
     "name": "stdout",
     "output_type": "stream",
     "text": [
      "Enter the string that you want: HELLO WORLD\n",
      "hello world\n"
     ]
    }
   ],
   "source": [
    "# Custom function to convert a string to lowercase\n",
    "def lowercase(string):\n",
    "    result = \"\"  # Initialize an empty string\n",
    "    for ch in string:  \n",
    "        if 'A' <= ch <= 'Z':  # Check if the character is an uppercase letter\n",
    "            result += chr(ord(ch) + 32)  # Convert to lowercase using ASCII value\n",
    "        else:\n",
    "            result += ch  # If not uppercase, keep the character as it is\n",
    "    return result  # Return the final lowercase string\n",
    "\n",
    "# Take input from the user\n",
    "string = input(\"Enter the string that you want: \")\n",
    "\n",
    "# Call the function \n",
    "print(lowercase(string))  \n"
   ]
  },
  {
   "cell_type": "code",
   "execution_count": 6,
   "id": "67be31dc",
   "metadata": {},
   "outputs": [
    {
     "name": "stdout",
     "output_type": "stream",
     "text": [
      "['This', 'is', 'my', 'first', 'assignment']\n"
     ]
    }
   ],
   "source": [
    "#  custom function of split the string\n",
    "def split(string):\n",
    "    result = []  # List to store the final word\n",
    "    word = \"\"    # Temporary string \n",
    "\n",
    "    for ch in string:  # Loop through each character in  input string\n",
    "        if ch != ' ':  # If the character is not a space, it's part of a word\n",
    "            word += ch  # Add the character to current word\n",
    "        else:\n",
    "            if word:  # If a word has been built before a space\n",
    "                result.append(word)  # Add the word to the result list\n",
    "                word = \"\"  # Reset word to start a new one\n",
    "\n",
    "    if word:  # After the loop, check if there's a remaining word\n",
    "        result.append(word)  # Add the last word to result\n",
    "\n",
    "    return result  # Return list of words\n",
    "\n",
    "print(split(\"This is my first assignment\"))  \n",
    "\n"
   ]
  },
  {
   "cell_type": "code",
   "execution_count": 7,
   "id": "40e30e7b",
   "metadata": {},
   "outputs": [
    {
     "name": "stdout",
     "output_type": "stream",
     "text": [
      "enter the text that you want to reverse:PYTHON\n"
     ]
    },
    {
     "data": {
      "text/plain": [
       "'NOHTYP'"
      ]
     },
     "execution_count": 7,
     "metadata": {},
     "output_type": "execute_result"
    }
   ],
   "source": [
    "# custom function of reverse the string\n",
    "def reverse_string(text):\n",
    "    result = \"\"  #initilize input empty string to store reverse string\n",
    "    for ch in text:\n",
    "        result = ch + result  # Add the character to the front of the result\n",
    "    return result\n",
    "text=input(\"enter the text that you want to reverse:\")\n",
    "reverse_string(text) \n"
   ]
  },
  {
   "cell_type": "code",
   "execution_count": 8,
   "id": "54be93e7",
   "metadata": {},
   "outputs": [
    {
     "name": "stdout",
     "output_type": "stream",
     "text": [
      "how are you\n"
     ]
    }
   ],
   "source": [
    "# custom function of strip\n",
    "\n",
    "def strip(text):\n",
    "    start = 0\n",
    "    end = len(text) - 1\n",
    "\n",
    "    # Move start index forward while there's a space\n",
    "    while start < len(text) and text[start] == ' ':\n",
    "        start += 1\n",
    "\n",
    "    # Move end index backward while there's a space\n",
    "    while end >= 0 and text[end] == ' ':\n",
    "        end -= 1\n",
    "\n",
    "    # Get the middle part \n",
    "    result = ''\n",
    "    for i in range(start, end + 1):\n",
    "        result += text[i]\n",
    "\n",
    "    return result\n",
    "\n",
    "print(strip(\"  how are you  \"))  "
   ]
  },
  {
   "cell_type": "code",
   "execution_count": 9,
   "id": "51112170",
   "metadata": {},
   "outputs": [
    {
     "name": "stdout",
     "output_type": "stream",
     "text": [
      "HELLO world, HELLO every one\n"
     ]
    }
   ],
   "source": [
    "# custom function of replace\n",
    "def replace(text, old_substring, new_substring):\n",
    "    result = \"\"\n",
    "    i = 0\n",
    "    while i < len(text):\n",
    "        # Check if the substring matches starting at the current position\n",
    "        if text[i:i+len(old_substring)] == old_substring:\n",
    "            result += new_substring  # Add the new substring to the result\n",
    "            i += len(old_substring)  # Skip past the old substring\n",
    "        else:\n",
    "            result += text[i]  # Add the current character to the result\n",
    "            i += 1\n",
    "    return result\n",
    "\n",
    "\n",
    "print(replace(\"hello world, hello every one\", \"hello\", \"HELLO\"))  \n"
   ]
  },
  {
   "cell_type": "code",
   "execution_count": null,
   "id": "57547c9e",
   "metadata": {},
   "outputs": [],
   "source": []
  }
 ],
 "metadata": {
  "kernelspec": {
   "display_name": "Python 3 (ipykernel)",
   "language": "python",
   "name": "python3"
  },
  "language_info": {
   "codemirror_mode": {
    "name": "ipython",
    "version": 3
   },
   "file_extension": ".py",
   "mimetype": "text/x-python",
   "name": "python",
   "nbconvert_exporter": "python",
   "pygments_lexer": "ipython3",
   "version": "3.11.5"
  }
 },
 "nbformat": 4,
 "nbformat_minor": 5
}
