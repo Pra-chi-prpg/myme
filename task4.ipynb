{
 "cells": [
  {
   "cell_type": "code",
   "execution_count": 3,
   "id": "90464cb5",
   "metadata": {},
   "outputs": [
    {
     "name": "stdout",
     "output_type": "stream",
     "text": [
      "Enter a password: Prachi_123\n",
      "Valid password\n"
     ]
    }
   ],
   "source": [
    "\n",
    "# 17.Accept a string as input. Your task is to determine if the input string is a valid password or not. For a \n",
    "# string to be a valid password, it must satisfy all the conditions given below:\n",
    "# (1) It should have at least 8 and at most 32 characters\n",
    "# (2) It should start with an uppercase or lowercase letter\n",
    "# (3) It should not have any of these characters: / \\ = ' \"\n",
    "# (4) It should not have spaces\n",
    "# It could have any character that is not mentioned in the list of characters to be avoided (points 3 and \n",
    "# 4).\n",
    "\n",
    "\n",
    "\n",
    "\n",
    "def is_valid_password(password):\n",
    "    # Condition 1: Length check\n",
    "    if not (8 <= len(password) <= 32):\n",
    "        return False\n",
    "\n",
    "    # Condition 2: Starts with a letter\n",
    "    if not password[0].isalpha():\n",
    "        return False\n",
    "\n",
    "    # Condition 3 and 4: Check for invalid characters\n",
    "    forbidden_chars = {'/', '\\\\', '=', '\\'', '\"', ' '}\n",
    "    for char in password:\n",
    "        if char in forbidden_chars:\n",
    "            return False\n",
    "\n",
    "    # If all checks passed\n",
    "    return True\n",
    "\n",
    "# Example usage\n",
    "user_input = input(\"Enter a password: \")\n",
    "if is_valid_password(user_input):\n",
    "    print(\"Valid password\")\n",
    "else:\n",
    "    print(\"Invalid password\")"
   ]
  },
  {
   "cell_type": "code",
   "execution_count": 1,
   "id": "6666a2b7",
   "metadata": {},
   "outputs": [
    {
     "name": "stdin",
     "output_type": "stream",
     "text": [
      "Enter a password:  1234prd\n"
     ]
    },
    {
     "name": "stdout",
     "output_type": "stream",
     "text": [
      "wrong password enter the password of length between 8 to 32 and start with letter(A-Z or a-z) \n",
      "Invalid password\n",
      "Suggested password: W%GgQPo4o<0a_O!;0*DLN@c%g<wZVq\n"
     ]
    }
   ],
   "source": [
    "# suggest password\n",
    "import string\n",
    "import random\n",
    "def suggested_password():\n",
    "    letters = string.ascii_letters\n",
    "    valid_chars = string.ascii_letters + string.digits + \"!@#$%^&*()_+{}[]|:;,.<>?\"\n",
    "    password = random.choice(letters) \n",
    "    length = random.randint(7, 31)     \n",
    "    for _ in range(length):\n",
    "        password += random.choice(valid_chars)\n",
    "    return password\n",
    "\n",
    "def is_valid_password(password):\n",
    "    # Condition 1: Length check\n",
    "    # Condition 2: Starts with a letter\n",
    "    if not (8 <= len(password) <= 32 and password[0].isalpha()):\n",
    "        print(\"wrong password enter the password of length between 8 to 32 and start with letter(A-Z or a-z) \")\n",
    "        return False\n",
    "\n",
    "    # Condition 3 and 4: Check for invalid characters\n",
    "    forbidden_chars = {'/', '\\\\', '=', '\\'', '\"', ' '}\n",
    "    for char in password:\n",
    "        if char in forbidden_chars:\n",
    "            print(f\"Password contains invalid character: '{char}'\",\"Avoid using: / \\\\ = ' \\\" and spaces.\") \n",
    "            return False\n",
    "\n",
    "    # If all checks passed\n",
    "    return True\n",
    "\n",
    "# Example usage\n",
    "user_input = input(\"Enter a password: \")\n",
    "if is_valid_password(user_input):\n",
    "    print(\"Valid password\")\n",
    "else:\n",
    "    print(\"Invalid password\")\n",
    "    print(\"Suggested password:\", suggested_password())"
   ]
  },
  {
   "cell_type": "code",
   "execution_count": null,
   "id": "89febef3-3a5f-4dec-9d92-f3c9eb8aa30c",
   "metadata": {},
   "outputs": [],
   "source": []
  }
 ],
 "metadata": {
  "kernelspec": {
   "display_name": "Python 3 (ipykernel)",
   "language": "python",
   "name": "python3"
  },
  "language_info": {
   "codemirror_mode": {
    "name": "ipython",
    "version": 3
   },
   "file_extension": ".py",
   "mimetype": "text/x-python",
   "name": "python",
   "nbconvert_exporter": "python",
   "pygments_lexer": "ipython3",
   "version": "3.13.2"
  }
 },
 "nbformat": 4,
 "nbformat_minor": 5
}
